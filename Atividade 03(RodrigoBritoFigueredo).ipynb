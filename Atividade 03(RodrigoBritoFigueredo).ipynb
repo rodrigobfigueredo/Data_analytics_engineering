{
 "cells": [
  {
   "attachments": {},
   "cell_type": "markdown",
   "id": "ebfbea4e",
   "metadata": {},
   "source": [
    "# Atividade 3\n",
    "\n",
    "Faça tudo via dbt. \n",
    "\n",
    "Envia como resposta:\n",
    "- A query SQL\n",
    "- Comando utilizado via terminal no `dbt`\n",
    "- Um print do resultado no próprio notebook, para isso é necessário criar uma pasta no repositório onde serão armazenadas as imagens, e para inserir no notebook é necessário criar uma célula `markdown` e inserir o seguinte comando: \n",
    "\n",
    "```markdown\n",
    "![Nome da Foto](path/para/imagem)\n",
    "```"
   ]
  },
  {
   "attachments": {},
   "cell_type": "markdown",
   "id": "c0c42967",
   "metadata": {},
   "source": [
    "1. Crie uma tabela `orders_by_year` a partir de `orders` que agrupa a quantidade de pedidos por ano, considerando a coluna `order_approved_at`"
   ]
  },
  {
   "attachments": {},
   "cell_type": "markdown",
   "id": "f3ea9041",
   "metadata": {},
   "source": [
    ">SQL:\n",
    "\n",
    "```SQL\n",
    "{{ config(materialized='table') }}\n",
    "\n",
    "   SELECT extract(year from order_approved_at) AS ano_do_pedido, COUNT (order_id) AS total\n",
    "     FROM `dbt_shop.orders` \n",
    "     WHERE order_approved_at IS NOT NULL\n",
    "     GROUP BY ano_do_pedido\n",
    "```\n",
    "\n",
    ">Comando DBT \n",
    "\n",
    "` dbt run --models shop.order_by_year `\n",
    "\n",
    "![Resposta](imagens_atividade3/exec1.png)"
   ]
  },
  {
   "attachments": {},
   "cell_type": "markdown",
   "id": "aa520524",
   "metadata": {},
   "source": [
    "2. Crie uma `view` que agrega os totais de pedidos por estado. Considere as tabelas _customers_ para obter os estados (coluna _customer_state_) e _orders_ para contabilizar a quantidade de pedidos."
   ]
  },
  {
   "attachments": {},
   "cell_type": "markdown",
   "id": "ba9e8bed",
   "metadata": {},
   "source": [
    ">SQL:\n",
    "\n",
    "```SQL\n",
    "SELECT customers.customer_state AS estado, COUNT(orders.order_id) AS total\n",
    "  FROM `dbt_shop.orders` AS orders\n",
    "  INNER JOIN\n",
    "    `dbt_shop.customers` AS customers ON (orders.customer_id = customers.customer_id)\n",
    "  GROUP BY customers.customer_state\n",
    "```\n",
    "\n",
    "> Comando DBT\n",
    "\n",
    "` dbt run --models shop.totais_pedidos_por_estado `\n",
    "\n",
    "![Resposta](imagens_atividade3/exec2.png)"
   ]
  },
  {
   "attachments": {},
   "cell_type": "markdown",
   "id": "54e0e5f1",
   "metadata": {},
   "source": [
    "3. De acordo com o resultado do exercício 2 retorne apenas os estados que tem mais de 5000 pedidos, esse número deve ser passado via variável `number_of_orders` do `dbt`."
   ]
  },
  {
   "attachments": {},
   "cell_type": "markdown",
   "id": "8fa73d6a",
   "metadata": {},
   "source": [
    "> Query SQL:\n",
    "\n",
    "```SQL\n",
    "SELECT *\n",
    "  FROM `dataset_rodrigo.totais_pedidos_por_estado`\n",
    "  WHERE total > CAST('{{ var(\"number_of_orders\") }}' AS INT64)\n",
    "```\n",
    "\n",
    "> Comando DBT\n",
    "\n",
    "` dbt run --models shop.pedidos_por_estado_com_variavel --vars \"{'number_of_orders': '5000'}\" `\n",
    "\n",
    "![Resposta](imagens_atividade3/exec3.png)"
   ]
  },
  {
   "attachments": {},
   "cell_type": "markdown",
   "id": "9c3ad0cc",
   "metadata": {},
   "source": [
    "4. Crie uma `view` chamada `customers_by_region` que utiliza os dados da tabela `customers`. A visão deve realizar uma agregação por região do Brasil (Norte, Nordeste, Sudeste, Centro Oeste e Sul) e contar o número de clientes em cada uma delas."
   ]
  },
  {
   "attachments": {},
   "cell_type": "markdown",
   "id": "1d05e3d8",
   "metadata": {},
   "source": [
    "> Query SQL:\n",
    "\n",
    "```SQL\n",
    "SELECT \n",
    "    CASE\n",
    "        WHEN customer_state LIKE 'AM' THEN 'Norte'\n",
    "        WHEN customer_state LIKE 'RR' THEN 'Norte'\n",
    "        WHEN customer_state LIKE 'AP' THEN 'Norte'\n",
    "        WHEN customer_state LIKE 'PA' THEN 'Norte'\n",
    "        WHEN customer_state LIKE 'TO' THEN 'Norte'\n",
    "        WHEN customer_state LIKE 'RO' THEN 'Norte'\n",
    "        WHEN customer_state LIKE 'AC' THEN 'Norte'\n",
    "        WHEN customer_state LIKE 'RN' THEN 'Nordeste'\n",
    "        WHEN customer_state LIKE 'CE' THEN 'Nordeste'\n",
    "        WHEN customer_state LIKE 'MA' THEN 'Nordeste'\n",
    "        WHEN customer_state LIKE 'PI' THEN 'Nordeste'\n",
    "        WHEN customer_state LIKE 'PE' THEN 'Nordeste'\n",
    "        WHEN customer_state LIKE 'PB' THEN 'Nordeste'\n",
    "        WHEN customer_state LIKE 'SE' THEN 'Nordeste'\n",
    "        WHEN customer_state LIKE 'AL' THEN 'Nordeste'\n",
    "        WHEN customer_state LIKE 'BA' THEN 'Nordeste'\n",
    "        WHEN customer_state LIKE 'MS' THEN 'Centro-Oeste'\n",
    "        WHEN customer_state LIKE 'GO' THEN 'Centro-Oeste'\n",
    "        WHEN customer_state LIKE 'DF' THEN 'Centro-Oeste'\n",
    "        WHEN customer_state LIKE 'SP' THEN 'Sudeste'\n",
    "        WHEN customer_state LIKE 'RJ' THEN 'Sudeste'\n",
    "        WHEN customer_state LIKE 'MG' THEN 'Sudeste'\n",
    "        WHEN customer_state LIKE 'ES' THEN 'Sudeste'\n",
    "        WHEN customer_state LIKE 'PR' THEN 'Sul'\n",
    "        WHEN customer_state LIKE 'SC' THEN 'Sul'\n",
    "        WHEN customer_state LIKE 'RS' THEN 'Sul'\n",
    "    END AS regiao,\n",
    "    COUNT (customer_id) AS numero_de_clientes\n",
    "    FROM `dbt_shop.customers`\n",
    "    GROUP BY regiao\n",
    "```\n",
    "\n",
    "> Comando DBT\n",
    "\n",
    "` dbt run --models shop.customers_by_region `\n",
    "\n",
    "![Resposta](imagens_atividade3/exec4.png)"
   ]
  },
  {
   "attachments": {},
   "cell_type": "markdown",
   "id": "d4c16290",
   "metadata": {},
   "source": [
    "5. Crie uma tabela `items_costs` que contenha o preço total de um item (soma do valor do produto com o frete)."
   ]
  },
  {
   "attachments": {},
   "cell_type": "markdown",
   "id": "16140d44",
   "metadata": {},
   "source": [
    "> Query SQL:\n",
    "\n",
    "```SQL\n",
    "{{ config(materialized='table') }}\n",
    "\n",
    "   SELECT order_id, order_item_id, product_id, (price + freight_value) AS item_cost\n",
    "     FROM `dbt_shop.items`\n",
    "```\n",
    "\n",
    "> Comando DBT\n",
    "\n",
    "` dbt run --models shop.items_costs `\n",
    "\n",
    "![Resposta](imagens_atividade3/exec5.png)"
   ]
  },
  {
   "attachments": {},
   "cell_type": "markdown",
   "id": "08cc4c02",
   "metadata": {},
   "source": [
    "6. Crie uma `view` com o nome `orders_shipped_costs`, você deve calcular o preço total do pedido somado com o frete, apenas para pedidos enviado (shipped)."
   ]
  },
  {
   "attachments": {},
   "cell_type": "markdown",
   "id": "6b34e153",
   "metadata": {},
   "source": [
    "> Query SQL:\n",
    "\n",
    "```SQL\n",
    "SELECT orders.order_id, orders.order_status, items.price, items.freight_value, (items.price + items.freight_value) AS full_price \n",
    "  FROM `dbt_shop.orders` AS orders\n",
    "  INNER JOIN \n",
    "    `dbt_shop.items` AS items ON (items.order_id = orders.order_id)\n",
    "  WHERE order_status = \"shipped\"\n",
    "```\n",
    "\n",
    "> Comando DBTl\n",
    "\n",
    "` dbt run --models shop.orders_shipped_costs `\n",
    "\n",
    "![Resposta](imagens_atividade3/exec6.png)"
   ]
  }
 ],
 "metadata": {
  "kernelspec": {
   "display_name": "Python 3",
   "language": "python",
   "name": "python3"
  },
  "language_info": {
   "codemirror_mode": {
    "name": "ipython",
    "version": 3
   },
   "file_extension": ".py",
   "mimetype": "text/x-python",
   "name": "python",
   "nbconvert_exporter": "python",
   "pygments_lexer": "ipython3",
   "version": "3.9.1"
  }
 },
 "nbformat": 4,
 "nbformat_minor": 5
}
